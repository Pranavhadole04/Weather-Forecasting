{
 "cells": [
  {
   "cell_type": "code",
   "execution_count": 1,
   "metadata": {},
   "outputs": [
    {
     "name": "stdout",
     "output_type": "stream",
     "text": [
      "\n",
      "Weather Analysis for Paris:\n",
      "\n",
      "Temperature: 1.22°C\n",
      "Humidity: 93%\n",
      "Condition: Clear sky\n",
      "It's cold! Dress warmly.\n",
      "It's quite humid. Might feel warmer than it is.\n"
     ]
    }
   ],
   "source": [
    "import requests\n",
    "\n",
    "# Constants\n",
    "API_KEY = \"62987777a6625473e73cf404a42ba9f7\"  \n",
    "BASE_URL = \"http://api.openweathermap.org/data/2.5/weather?\"\n",
    "\n",
    "def get_weather_data(city): # retrieve weather information for a given city.\n",
    "    \"\"\"Fetch weather data for a city.\"\"\"\n",
    "    try:\n",
    "        response = requests.get(BASE_URL, params={\n",
    "            \"q\": city, # Query parameter for the city name\n",
    "            \"appid\": API_KEY, # API key for authentication\n",
    "            \"units\": \"metric\" # Optional parameter to get temperature in Celsius\n",
    "        })\n",
    "        response.raise_for_status() # the code indicates an error (e.g., 404 or 401), it raises an exception.\n",
    "        return response.json() # This typically includes weather details like temperature, humidity, wind speed, etc.\n",
    "    except requests.exceptions.RequestException as e: #If an exception occurs (e.g., due to a network issue or invalid response), it prints an error message and returns None\n",
    "        print(f\"Error fetching data: {e}\")\n",
    "        return None\n",
    "\n",
    "def analyze_weather(data): # This function analyzes and prints key weather details (temperature, humidity, and condition) from the provided data.\n",
    "    \"\"\"Analyze weather data and provide insights.\"\"\"\n",
    "    if not data: # If data is None (indicating an error or missing data), the function exits early without attempting further operations.\n",
    "        return\n",
    "\n",
    "    temp = data[\"main\"][\"temp\"] # current temperature\n",
    "    humidity = data[\"main\"][\"humidity\"] # percentage of humidity\n",
    "    weather = data[\"weather\"][0][\"description\"] # short description of the weather condition\n",
    "\n",
    "    print(f\"\\nWeather Analysis for {data['name']}:\\n\")\n",
    "    print(f\"Temperature: {temp}°C\")\n",
    "    print(f\"Humidity: {humidity}%\")\n",
    "    print(f\"Condition: {weather.capitalize()}\")\n",
    "\n",
    "    # Insights\n",
    "    if temp > 30:\n",
    "        print(\"It's quite hot! Stay hydrated.\")\n",
    "    elif temp < 10:\n",
    "        print(\"It's cold! Dress warmly.\")\n",
    "    else:\n",
    "        print(\"The temperature is moderate.\")\n",
    "\n",
    "    if humidity > 70:\n",
    "        print(\"It's quite humid. Might feel warmer than it is.\")\n",
    "\n",
    "def main():\n",
    "    city = input(\"Enter city name: \")\n",
    "    data = get_weather_data(city)\n",
    "    analyze_weather(data)\n",
    "\n",
    "if __name__ == \"__main__\":\n",
    "    main()\n"
   ]
  },
  {
   "cell_type": "code",
   "execution_count": null,
   "metadata": {},
   "outputs": [],
   "source": []
  },
  {
   "cell_type": "code",
   "execution_count": null,
   "metadata": {},
   "outputs": [],
   "source": []
  }
 ],
 "metadata": {
  "kernelspec": {
   "display_name": "base",
   "language": "python",
   "name": "python3"
  },
  "language_info": {
   "codemirror_mode": {
    "name": "ipython",
    "version": 3
   },
   "file_extension": ".py",
   "mimetype": "text/x-python",
   "name": "python",
   "nbconvert_exporter": "python",
   "pygments_lexer": "ipython3",
   "version": "3.12.7"
  }
 },
 "nbformat": 4,
 "nbformat_minor": 2
}
